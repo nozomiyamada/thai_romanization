{
 "cells": [
  {
   "cell_type": "code",
   "execution_count": 1,
   "id": "1dd016b0-0777-4ae3-b935-bc15d88cd7fa",
   "metadata": {},
   "outputs": [],
   "source": [
    "from util import *\n",
    "from seq2seq import *"
   ]
  },
  {
   "cell_type": "code",
   "execution_count": 2,
   "id": "d43ab950",
   "metadata": {},
   "outputs": [],
   "source": [
    "# load data\n",
    "train_x = open('data/train_x.txt').read().splitlines()\n",
    "train_y = open('data/train_y.txt').read().splitlines()\n",
    "test_x = open('data/test_x.txt').read().splitlines()\n",
    "test_y = open('data/test_y.txt').read().splitlines()"
   ]
  },
  {
   "cell_type": "code",
   "execution_count": 3,
   "id": "2900ea9c",
   "metadata": {},
   "outputs": [],
   "source": [
    "# Instantiation\n",
    "data = Data()\n",
    "data.set_train(train_x, train_y)\n",
    "data.set_test(test_x, test_y)\n",
    "encoder = Encoder(data)\n",
    "decoder = Decoder(data)\n",
    "seq2seq = Seq2Seq(encoder, decoder)\n",
    "\n",
    "# build model\n",
    "seq2seq.build(show_model=False, opt='rmsprop', loss='categorical_crossentropy')\n"
   ]
  },
  {
   "cell_type": "code",
   "execution_count": 4,
   "id": "8228e213",
   "metadata": {},
   "outputs": [
    {
     "name": "stdout",
     "output_type": "stream",
     "text": [
      "Epoch 1/30\n"
     ]
    },
    {
     "name": "stderr",
     "output_type": "stream",
     "text": [
      "2022-06-21 23:03:21.881608: W tensorflow/core/platform/profile_utils/cpu_utils.cc:128] Failed to get CPU frequency: 0 Hz\n"
     ]
    },
    {
     "name": "stdout",
     "output_type": "stream",
     "text": [
      "26/26 [==============================] - 9s 203ms/step - loss: 1.0698 - accuracy: 0.2580 - val_loss: 0.9331 - val_accuracy: 0.3554\n",
      "Epoch 2/30\n",
      "26/26 [==============================] - 6s 220ms/step - loss: 0.8115 - accuracy: 0.4302 - val_loss: 0.7590 - val_accuracy: 0.4429\n",
      "Epoch 3/30\n",
      "26/26 [==============================] - 6s 227ms/step - loss: 0.6898 - accuracy: 0.4772 - val_loss: 0.6596 - val_accuracy: 0.5009\n",
      "Epoch 4/30\n",
      "26/26 [==============================] - 6s 246ms/step - loss: 0.6134 - accuracy: 0.5260 - val_loss: 0.5837 - val_accuracy: 0.5487\n",
      "Epoch 5/30\n",
      "26/26 [==============================] - 7s 278ms/step - loss: 0.5391 - accuracy: 0.5834 - val_loss: 0.5421 - val_accuracy: 0.5714\n",
      "Epoch 6/30\n",
      "26/26 [==============================] - 7s 272ms/step - loss: 0.4865 - accuracy: 0.6236 - val_loss: 0.4636 - val_accuracy: 0.6573\n",
      "Epoch 7/30\n",
      "26/26 [==============================] - 7s 271ms/step - loss: 0.4271 - accuracy: 0.6693 - val_loss: 0.4119 - val_accuracy: 0.6959\n",
      "Epoch 8/30\n",
      "26/26 [==============================] - 7s 270ms/step - loss: 0.3822 - accuracy: 0.7060 - val_loss: 0.3905 - val_accuracy: 0.6925\n",
      "Epoch 9/30\n",
      "26/26 [==============================] - 7s 269ms/step - loss: 0.3407 - accuracy: 0.7394 - val_loss: 0.3470 - val_accuracy: 0.7306\n",
      "Epoch 10/30\n",
      "26/26 [==============================] - 7s 259ms/step - loss: 0.3094 - accuracy: 0.7637 - val_loss: 0.3240 - val_accuracy: 0.7558\n",
      "Epoch 11/30\n",
      "26/26 [==============================] - 7s 258ms/step - loss: 0.2767 - accuracy: 0.7896 - val_loss: 0.2740 - val_accuracy: 0.7957\n",
      "Epoch 12/30\n",
      "26/26 [==============================] - 7s 270ms/step - loss: 0.2533 - accuracy: 0.8078 - val_loss: 0.2516 - val_accuracy: 0.8094\n",
      "Epoch 13/30\n",
      "26/26 [==============================] - 7s 278ms/step - loss: 0.2241 - accuracy: 0.8302 - val_loss: 0.2342 - val_accuracy: 0.8253\n",
      "Epoch 14/30\n",
      "26/26 [==============================] - 7s 281ms/step - loss: 0.2068 - accuracy: 0.8433 - val_loss: 0.2075 - val_accuracy: 0.8468\n",
      "Epoch 15/30\n",
      "26/26 [==============================] - 7s 268ms/step - loss: 0.1857 - accuracy: 0.8609 - val_loss: 0.2188 - val_accuracy: 0.8346\n",
      "Epoch 16/30\n",
      "26/26 [==============================] - 7s 266ms/step - loss: 0.1712 - accuracy: 0.8702 - val_loss: 0.1820 - val_accuracy: 0.8634\n",
      "Epoch 17/30\n",
      "26/26 [==============================] - 7s 278ms/step - loss: 0.1514 - accuracy: 0.8886 - val_loss: 0.1865 - val_accuracy: 0.8595\n",
      "Epoch 18/30\n",
      "26/26 [==============================] - 7s 288ms/step - loss: 0.1431 - accuracy: 0.8912 - val_loss: 0.1713 - val_accuracy: 0.8748\n",
      "Epoch 19/30\n",
      "26/26 [==============================] - 7s 278ms/step - loss: 0.1257 - accuracy: 0.9074 - val_loss: 0.1895 - val_accuracy: 0.8598\n",
      "Epoch 20/30\n",
      "26/26 [==============================] - 7s 276ms/step - loss: 0.1164 - accuracy: 0.9147 - val_loss: 0.1456 - val_accuracy: 0.8947\n",
      "Epoch 21/30\n",
      "26/26 [==============================] - 7s 269ms/step - loss: 0.1059 - accuracy: 0.9239 - val_loss: 0.1438 - val_accuracy: 0.8962\n",
      "Epoch 22/30\n",
      "26/26 [==============================] - 7s 275ms/step - loss: 0.0927 - accuracy: 0.9337 - val_loss: 0.1352 - val_accuracy: 0.9029\n",
      "Epoch 23/30\n",
      "26/26 [==============================] - 7s 266ms/step - loss: 0.0875 - accuracy: 0.9395 - val_loss: 0.1273 - val_accuracy: 0.9064\n",
      "Epoch 24/30\n",
      "26/26 [==============================] - 7s 263ms/step - loss: 0.0775 - accuracy: 0.9464 - val_loss: 0.1310 - val_accuracy: 0.9036\n",
      "Epoch 25/30\n",
      "26/26 [==============================] - 7s 262ms/step - loss: 0.0717 - accuracy: 0.9507 - val_loss: 0.1228 - val_accuracy: 0.9113\n",
      "Epoch 26/30\n",
      "26/26 [==============================] - 7s 269ms/step - loss: 0.0652 - accuracy: 0.9550 - val_loss: 0.1214 - val_accuracy: 0.9101\n",
      "Epoch 27/30\n",
      "26/26 [==============================] - 7s 276ms/step - loss: 0.0593 - accuracy: 0.9579 - val_loss: 0.1351 - val_accuracy: 0.9032\n",
      "Epoch 28/30\n",
      "26/26 [==============================] - 7s 270ms/step - loss: 0.0545 - accuracy: 0.9632 - val_loss: 0.1062 - val_accuracy: 0.9235\n",
      "Epoch 29/30\n",
      "26/26 [==============================] - 7s 269ms/step - loss: 0.0500 - accuracy: 0.9672 - val_loss: 0.1109 - val_accuracy: 0.9177\n",
      "Epoch 30/30\n",
      "26/26 [==============================] - 7s 277ms/step - loss: 0.0448 - accuracy: 0.9699 - val_loss: 0.1035 - val_accuracy: 0.9267\n"
     ]
    },
    {
     "data": {
      "text/plain": [
       "<AxesSubplot:xlabel='Epoch'>"
      ]
     },
     "execution_count": 4,
     "metadata": {},
     "output_type": "execute_result"
    },
    {
     "data": {
      "image/png": "[encoded data removed]",
      "text/plain": [
       "<Figure size 432x288 with 1 Axes>"
      ]
     },
     "metadata": {
      "needs_background": "light"
     },
     "output_type": "display_data"
    }
   ],
   "source": [
    "# train\n",
    "seq2seq.train(batch_size=100, epoch=30, dev_split=0.2)"
   ]
  },
  {
   "cell_type": "code",
   "execution_count": 5,
   "id": "4a39fa88",
   "metadata": {},
   "outputs": [
    {
     "name": "stderr",
     "output_type": "stream",
     "text": [
      "100%|██████████| 810/810 [03:23<00:00,  3.98it/s]\n"
     ]
    }
   ],
   "source": [
    "pred = seq2seq.predict(join_by='')"
   ]
  },
  {
   "cell_type": "code",
   "execution_count": 7,
   "id": "ffa9441b",
   "metadata": {},
   "outputs": [],
   "source": [
    "df = pd.DataFrame({'thai':test_x,'pred':pred, 'answer':test_y})"
   ]
  },
  {
   "cell_type": "code",
   "execution_count": 10,
   "id": "8fb377b1",
   "metadata": {},
   "outputs": [],
   "source": [
    "df.to_csv('pred.csv', index=False)"
   ]
  },
  {
   "cell_type": "code",
   "execution_count": 12,
   "id": "8ae6f683",
   "metadata": {},
   "outputs": [],
   "source": [
    "from keras import layers"
   ]
  },
  {
   "cell_type": "code",
   "execution_count": 13,
   "id": "6c4e3157",
   "metadata": {},
   "outputs": [
    {
     "data": {
      "text/plain": [
       "keras.layers.merging.dot.Dot"
      ]
     },
     "execution_count": 13,
     "metadata": {},
     "output_type": "execute_result"
    }
   ],
   "source": [
    "layers.Dot"
   ]
  },
  {
   "cell_type": "code",
   "execution_count": 18,
   "id": "1b3e7820",
   "metadata": {},
   "outputs": [],
   "source": [
    "a = np.zeros([10,6,3])\n",
    "b = np.zeros([10,6,3])\n",
    "c = keras.layers.Dot(axes=[2,2])"
   ]
  },
  {
   "cell_type": "code",
   "execution_count": 20,
   "id": "40677964",
   "metadata": {},
   "outputs": [
    {
     "data": {
      "text/plain": [
       "TensorShape([10, 6, 6])"
      ]
     },
     "execution_count": 20,
     "metadata": {},
     "output_type": "execute_result"
    }
   ],
   "source": [
    "c([a,b]).shape"
   ]
  },
  {
   "cell_type": "code",
   "execution_count": null,
   "id": "3e4ecae2",
   "metadata": {},
   "outputs": [],
   "source": []
  }
 ],
 "metadata": {
  "interpreter": {
   "hash": "aee8b7b246df8f9039afb4144a1f6fd8d2ca17a180786b69acc140d282b71a49"
  },
  "kernelspec": {
   "display_name": "Python 3.9.13 64-bit",
   "language": "python",
   "name": "python3"
  },
  "language_info": {
   "codemirror_mode": {
    "name": "ipython",
    "version": 3
   },
   "file_extension": ".py",
   "mimetype": "text/x-python",
   "name": "python",
   "nbconvert_exporter": "python",
   "pygments_lexer": "ipython3",
   "version": "3.9.13"
  }
 },
 "nbformat": 4,
 "nbformat_minor": 5
}
