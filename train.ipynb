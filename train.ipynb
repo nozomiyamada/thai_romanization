{
 "cells": [
  {
   "cell_type": "code",
   "execution_count": null,
   "id": "1dd016b0-0777-4ae3-b935-bc15d88cd7fa",
   "metadata": {},
   "outputs": [],
   "source": [
    "from seq2seq import *\n",
    "import tltk, jiwer\n",
    "import pandas as pd"
   ]
  },
  {
   "cell_type": "code",
   "execution_count": null,
   "id": "d43ab950",
   "metadata": {},
   "outputs": [],
   "source": [
    "### load data\n",
    "train_x = open('data/train_x.txt').read().splitlines()\n",
    "train_y = open('data/train_y.txt').read().splitlines()\n",
    "test_x = open('data/test_x.txt').read().splitlines()\n",
    "test_y = open('data/test_y.txt').read().splitlines()\n",
    "\n",
    "### additional dict data\n",
    "dic_x = open('data/dic_x.txt').read().splitlines()\n",
    "dic_y = open('data/dic_y.txt').read().splitlines()"
   ]
  },
  {
   "cell_type": "code",
   "execution_count": null,
   "id": "2900ea9c",
   "metadata": {},
   "outputs": [],
   "source": [
    "### Instantiation\n",
    "data = Data()\n",
    "data.set_train(train_x, train_y)\n",
    "data.set_test(test_x, test_y)\n",
    "\n",
    "### set dict data\n",
    "data.set_train(dic_x, dic_y)"
   ]
  },
  {
   "cell_type": "code",
   "execution_count": null,
   "id": "ac4bca57",
   "metadata": {},
   "outputs": [],
   "source": [
    "### build no attention model\n",
    "seq2seq1 = Seq2Seq(data, attention=False)\n",
    "seq2seq1.build(show_summary=True)\n",
    "\n",
    "### build attention model\n",
    "seq2seq2 = Seq2Seq(data, attention=True)\n",
    "seq2seq2.build(show_summary=True)"
   ]
  },
  {
   "cell_type": "code",
   "execution_count": null,
   "id": "8228e213",
   "metadata": {},
   "outputs": [],
   "source": [
    "### train\n",
    "seq2seq1.train(batch_size=100, epoch=50, dev_split=0)\n",
    "seq2seq2.train(batch_size=100, epoch=50, dev_split=0)"
   ]
  },
  {
   "cell_type": "code",
   "execution_count": null,
   "id": "4a39fa88",
   "metadata": {},
   "outputs": [],
   "source": [
    "pred1 = seq2seq1.predict(join_by='')\n",
    "pred2 = seq2seq2.predict(join_by='')\n",
    "df = pd.DataFrame({'thai':test_x,'pred1':pred1,'pred2':pred2, 'answer':test_y})\n",
    "pred_tltk = [tltk.nlp.th2roman(x).replace('<s/>','').replace(' ','') for x in list(df.answer)]\n",
    "df['tltk'] = pred_tltk\n",
    "df[['thai','answer','tltk','pred1','pred2']].to_csv('pred/pred_nodict.csv', index=False)"
   ]
  },
  {
   "cell_type": "code",
   "execution_count": null,
   "id": "3e4ecae2",
   "metadata": {},
   "outputs": [],
   "source": [
    "def evaluate(df):\n",
    "    cols = df.columns\n",
    "    gold_list = list(df.answer)\n",
    "    tempdf = pd.DataFrame(index=['WER','CER macro', 'CER micro'])\n",
    "\n",
    "    for col in cols:\n",
    "        if col in ['answer', 'thai']:\n",
    "            continue\n",
    "        pred_list = list(df[col])\n",
    "        WER = jiwer.wer(pred_list, gold_list)\n",
    "        CERmacro = np.mean([jiwer.cer(p,g) for p,g in zip(pred_list, gold_list)])\n",
    "        CERmicro = sum([jiwer.cer(p,g)*len(g) for p,g in zip(pred_list, gold_list)])/sum([len(g) for g in gold_list])\n",
    "        tempdf[col] = [WER, CERmacro, CERmicro]\n",
    "    return tempdf\n",
    "\n",
    "evaluate(df)"
   ]
  },
  {
   "cell_type": "markdown",
   "id": "00a24c00",
   "metadata": {},
   "source": [
    "### coding test"
   ]
  },
  {
   "cell_type": "code",
   "execution_count": null,
   "id": "f72d9019",
   "metadata": {},
   "outputs": [],
   "source": [
    "i = np.random.randint(0,810)\n",
    "\n",
    "print(test_x[i])\n",
    "print(seq2seq1.predict_one(test_x[i], is_beam=True, beam_return_all=True, join_by=''))\n",
    "print(test_y[i])"
   ]
  },
  {
   "cell_type": "code",
   "execution_count": null,
   "id": "c936731d",
   "metadata": {},
   "outputs": [],
   "source": [
    "seq2seq2.model.summary()"
   ]
  },
  {
   "cell_type": "code",
   "execution_count": null,
   "id": "96e9d96d",
   "metadata": {},
   "outputs": [],
   "source": [
    "b = np.array([1,2,3,4,5])\n",
    "b[[1,4]]"
   ]
  },
  {
   "cell_type": "code",
   "execution_count": null,
   "id": "59038651",
   "metadata": {},
   "outputs": [],
   "source": []
  }
 ],
 "metadata": {
  "interpreter": {
   "hash": "aee8b7b246df8f9039afb4144a1f6fd8d2ca17a180786b69acc140d282b71a49"
  },
  "kernelspec": {
   "display_name": "Python 3.9.13 64-bit",
   "language": "python",
   "name": "python3"
  },
  "language_info": {
   "codemirror_mode": {
    "name": "ipython",
    "version": 3
   },
   "file_extension": ".py",
   "mimetype": "text/x-python",
   "name": "python",
   "nbconvert_exporter": "python",
   "pygments_lexer": "ipython3",
   "version": "3.9.2"
  }
 },
 "nbformat": 4,
 "nbformat_minor": 5
}
