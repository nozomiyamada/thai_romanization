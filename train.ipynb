{
 "cells": [
  {
   "cell_type": "code",
   "execution_count": 1,
   "id": "1dd016b0-0777-4ae3-b935-bc15d88cd7fa",
   "metadata": {},
   "outputs": [],
   "source": [
    "from seq2seq import *\n",
    "import tltk, jiwer\n",
    "import pandas as pd"
   ]
  },
  {
   "cell_type": "code",
   "execution_count": 2,
   "id": "d43ab950",
   "metadata": {},
   "outputs": [],
   "source": [
    "### load data\n",
    "train_x = open('data/train_x.txt').read().splitlines()\n",
    "train_y = open('data/train_y.txt').read().splitlines()\n",
    "test_x = open('data/test_x.txt').read().splitlines()\n",
    "test_y = open('data/test_y.txt').read().splitlines()\n",
    "\n",
    "### additional dict data\n",
    "dic_x = open('data/dic_x.txt').read().splitlines()\n",
    "dic_y = open('data/dic_y.txt').read().splitlines()"
   ]
  },
  {
   "cell_type": "code",
   "execution_count": 10,
   "id": "2900ea9c",
   "metadata": {},
   "outputs": [],
   "source": [
    "### Instantiation\n",
    "data = Data()\n",
    "data.set_train(train_x, train_y)\n",
    "data.set_test(test_x, test_y)\n",
    "\n",
    "### set dict data\n",
    "data.set_train(dic_x, dic_y)"
   ]
  },
  {
   "cell_type": "code",
   "execution_count": 11,
   "id": "ac4bca57",
   "metadata": {},
   "outputs": [],
   "source": [
    "### build no attention model\n",
    "seq2seq1 = Seq2Seq(data, attention=False)\n",
    "seq2seq1.build(show_summary=True)\n",
    "\n",
    "### build attention model\n",
    "seq2seq2 = Seq2Seq(data, attention=True)\n",
    "seq2seq2.build(show_summary=True)"
   ]
  },
  {
   "cell_type": "code",
   "execution_count": 6,
   "id": "8228e213",
   "metadata": {},
   "outputs": [
    {
     "name": "stdout",
     "output_type": "stream",
     "text": [
      "Epoch 1/50\n"
     ]
    },
    {
     "name": "stderr",
     "output_type": "stream",
     "text": [
      "2022-06-23 09:59:50.685814: W tensorflow/core/platform/profile_utils/cpu_utils.cc:128] Failed to get CPU frequency: 0 Hz\n"
     ]
    },
    {
     "name": "stdout",
     "output_type": "stream",
     "text": [
      "29/29 [==============================] - 11s 251ms/step - loss: 1.1259 - accuracy: 0.2603\n",
      "Epoch 2/50\n",
      "29/29 [==============================] - 8s 258ms/step - loss: 0.8162 - accuracy: 0.4171\n",
      "Epoch 3/50\n",
      "29/29 [==============================] - 8s 281ms/step - loss: 0.7023 - accuracy: 0.4755\n",
      "Epoch 4/50\n",
      "29/29 [==============================] - 10s 334ms/step - loss: 0.6090 - accuracy: 0.5393\n",
      "Epoch 5/50\n",
      "29/29 [==============================] - 10s 334ms/step - loss: 0.5224 - accuracy: 0.5990\n",
      "Epoch 6/50\n",
      "29/29 [==============================] - 10s 341ms/step - loss: 0.4472 - accuracy: 0.6588\n",
      "Epoch 7/50\n",
      "29/29 [==============================] - 9s 316ms/step - loss: 0.3856 - accuracy: 0.7066\n",
      "Epoch 8/50\n",
      "29/29 [==============================] - 9s 304ms/step - loss: 0.3316 - accuracy: 0.7514\n",
      "Epoch 9/50\n",
      "29/29 [==============================] - 9s 308ms/step - loss: 0.2888 - accuracy: 0.7823\n",
      "Epoch 10/50\n",
      "29/29 [==============================] - 9s 306ms/step - loss: 0.2476 - accuracy: 0.8135\n",
      "Epoch 11/50\n",
      "29/29 [==============================] - 9s 312ms/step - loss: 0.2165 - accuracy: 0.8379\n",
      "Epoch 12/50\n",
      "29/29 [==============================] - 9s 312ms/step - loss: 0.1884 - accuracy: 0.8600\n",
      "Epoch 13/50\n",
      "29/29 [==============================] - 9s 313ms/step - loss: 0.1612 - accuracy: 0.8802\n",
      "Epoch 14/50\n",
      "29/29 [==============================] - 9s 313ms/step - loss: 0.1421 - accuracy: 0.8942\n",
      "Epoch 15/50\n",
      "29/29 [==============================] - 9s 321ms/step - loss: 0.1227 - accuracy: 0.9094\n",
      "Epoch 16/50\n",
      "29/29 [==============================] - 9s 310ms/step - loss: 0.1074 - accuracy: 0.9218\n",
      "Epoch 17/50\n",
      "29/29 [==============================] - 9s 326ms/step - loss: 0.0904 - accuracy: 0.9360\n",
      "Epoch 18/50\n",
      "29/29 [==============================] - 9s 320ms/step - loss: 0.0795 - accuracy: 0.9444\n",
      "Epoch 19/50\n",
      "29/29 [==============================] - 9s 322ms/step - loss: 0.0702 - accuracy: 0.9512\n",
      "Epoch 20/50\n",
      "29/29 [==============================] - 9s 325ms/step - loss: 0.0589 - accuracy: 0.9609\n",
      "Epoch 21/50\n",
      "29/29 [==============================] - 9s 315ms/step - loss: 0.0505 - accuracy: 0.9670\n",
      "Epoch 22/50\n",
      "29/29 [==============================] - 9s 312ms/step - loss: 0.0438 - accuracy: 0.9721\n",
      "Epoch 23/50\n",
      "29/29 [==============================] - 9s 306ms/step - loss: 0.0396 - accuracy: 0.9749\n",
      "Epoch 24/50\n",
      "29/29 [==============================] - 9s 305ms/step - loss: 0.0344 - accuracy: 0.9791\n",
      "Epoch 25/50\n",
      "29/29 [==============================] - 9s 316ms/step - loss: 0.0304 - accuracy: 0.9819\n",
      "Epoch 26/50\n",
      "29/29 [==============================] - 9s 300ms/step - loss: 0.0278 - accuracy: 0.9836\n",
      "Epoch 27/50\n",
      "29/29 [==============================] - 9s 305ms/step - loss: 0.0210 - accuracy: 0.9894\n",
      "Epoch 28/50\n",
      "29/29 [==============================] - 9s 310ms/step - loss: 0.0214 - accuracy: 0.9881\n",
      "Epoch 29/50\n",
      "29/29 [==============================] - 9s 307ms/step - loss: 0.0179 - accuracy: 0.9906\n",
      "Epoch 30/50\n",
      "29/29 [==============================] - 9s 307ms/step - loss: 0.0176 - accuracy: 0.9905\n",
      "Epoch 31/50\n",
      "29/29 [==============================] - 9s 308ms/step - loss: 0.0130 - accuracy: 0.9942\n",
      "Epoch 32/50\n",
      "29/29 [==============================] - 9s 306ms/step - loss: 0.0136 - accuracy: 0.9931\n",
      "Epoch 33/50\n",
      "29/29 [==============================] - 9s 311ms/step - loss: 0.0114 - accuracy: 0.9946\n",
      "Epoch 34/50\n",
      "29/29 [==============================] - 9s 305ms/step - loss: 0.0106 - accuracy: 0.9949\n",
      "Epoch 35/50\n",
      "29/29 [==============================] - 9s 304ms/step - loss: 0.0115 - accuracy: 0.9945\n",
      "Epoch 36/50\n",
      "29/29 [==============================] - 9s 302ms/step - loss: 0.0085 - accuracy: 0.9964\n",
      "Epoch 37/50\n",
      "29/29 [==============================] - 9s 308ms/step - loss: 0.0076 - accuracy: 0.9968\n",
      "Epoch 38/50\n",
      "29/29 [==============================] - 9s 306ms/step - loss: 0.0078 - accuracy: 0.9968\n",
      "Epoch 39/50\n",
      "29/29 [==============================] - 9s 307ms/step - loss: 0.0071 - accuracy: 0.9966\n",
      "Epoch 40/50\n",
      "29/29 [==============================] - 9s 307ms/step - loss: 0.0073 - accuracy: 0.9960\n",
      "Epoch 41/50\n",
      "29/29 [==============================] - 9s 308ms/step - loss: 0.0055 - accuracy: 0.9976\n",
      "Epoch 42/50\n",
      "29/29 [==============================] - 9s 304ms/step - loss: 0.0062 - accuracy: 0.9966\n",
      "Epoch 43/50\n",
      "29/29 [==============================] - 9s 309ms/step - loss: 0.0057 - accuracy: 0.9974\n",
      "Epoch 44/50\n",
      "29/29 [==============================] - 9s 300ms/step - loss: 0.0040 - accuracy: 0.9986\n",
      "Epoch 45/50\n",
      "29/29 [==============================] - 9s 312ms/step - loss: 0.0047 - accuracy: 0.9977\n",
      "Epoch 46/50\n",
      "29/29 [==============================] - 9s 307ms/step - loss: 0.0041 - accuracy: 0.9981\n",
      "Epoch 47/50\n",
      "29/29 [==============================] - 9s 307ms/step - loss: 0.0029 - accuracy: 0.9991\n",
      "Epoch 48/50\n",
      "29/29 [==============================] - 9s 304ms/step - loss: 0.0045 - accuracy: 0.9976\n",
      "Epoch 49/50\n",
      "29/29 [==============================] - 9s 309ms/step - loss: 0.0030 - accuracy: 0.9989\n",
      "Epoch 50/50\n",
      "29/29 [==============================] - 9s 308ms/step - loss: 0.0026 - accuracy: 0.9991\n",
      "Epoch 1/50\n",
      "29/29 [==============================] - 11s 256ms/step - loss: 1.1591 - accuracy: 0.2336\n",
      "Epoch 2/50\n",
      "29/29 [==============================] - 8s 269ms/step - loss: 0.7983 - accuracy: 0.4292\n",
      "Epoch 3/50\n",
      "29/29 [==============================] - 8s 270ms/step - loss: 0.6493 - accuracy: 0.5155\n",
      "Epoch 4/50\n",
      "29/29 [==============================] - 9s 322ms/step - loss: 0.5452 - accuracy: 0.5892\n",
      "Epoch 5/50\n",
      "29/29 [==============================] - 9s 324ms/step - loss: 0.4208 - accuracy: 0.6867\n",
      "Epoch 6/50\n",
      "29/29 [==============================] - 9s 327ms/step - loss: 0.3168 - accuracy: 0.7689\n",
      "Epoch 7/50\n",
      "29/29 [==============================] - 9s 326ms/step - loss: 0.2452 - accuracy: 0.8215\n",
      "Epoch 8/50\n",
      "29/29 [==============================] - 10s 338ms/step - loss: 0.1787 - accuracy: 0.8699\n",
      "Epoch 9/50\n",
      "29/29 [==============================] - 10s 343ms/step - loss: 0.1422 - accuracy: 0.8947\n",
      "Epoch 10/50\n",
      "29/29 [==============================] - 10s 332ms/step - loss: 0.1074 - accuracy: 0.9210\n",
      "Epoch 11/50\n",
      "29/29 [==============================] - 10s 346ms/step - loss: 0.0907 - accuracy: 0.9317\n",
      "Epoch 12/50\n",
      "29/29 [==============================] - 10s 344ms/step - loss: 0.0681 - accuracy: 0.9494\n",
      "Epoch 13/50\n",
      "29/29 [==============================] - 10s 332ms/step - loss: 0.0601 - accuracy: 0.9564\n",
      "Epoch 14/50\n",
      "29/29 [==============================] - 10s 342ms/step - loss: 0.0449 - accuracy: 0.9675\n",
      "Epoch 15/50\n",
      "29/29 [==============================] - 10s 336ms/step - loss: 0.0365 - accuracy: 0.9736\n",
      "Epoch 16/50\n",
      "29/29 [==============================] - 10s 345ms/step - loss: 0.0309 - accuracy: 0.9783\n",
      "Epoch 17/50\n",
      "29/29 [==============================] - 10s 332ms/step - loss: 0.0261 - accuracy: 0.9832\n",
      "Epoch 18/50\n",
      "29/29 [==============================] - 9s 327ms/step - loss: 0.0231 - accuracy: 0.9843\n",
      "Epoch 19/50\n",
      "29/29 [==============================] - 10s 330ms/step - loss: 0.0186 - accuracy: 0.9876\n",
      "Epoch 20/50\n",
      "29/29 [==============================] - 10s 331ms/step - loss: 0.0162 - accuracy: 0.9899\n",
      "Epoch 21/50\n",
      "29/29 [==============================] - 10s 339ms/step - loss: 0.0143 - accuracy: 0.9902\n",
      "Epoch 22/50\n",
      "29/29 [==============================] - 10s 334ms/step - loss: 0.0113 - accuracy: 0.9928\n",
      "Epoch 23/50\n",
      "29/29 [==============================] - 9s 326ms/step - loss: 0.0120 - accuracy: 0.9923\n",
      "Epoch 24/50\n",
      "29/29 [==============================] - 10s 330ms/step - loss: 0.0095 - accuracy: 0.9938\n",
      "Epoch 25/50\n",
      "29/29 [==============================] - 10s 334ms/step - loss: 0.0078 - accuracy: 0.9951\n",
      "Epoch 26/50\n",
      "29/29 [==============================] - 9s 326ms/step - loss: 0.0104 - accuracy: 0.9940\n",
      "Epoch 27/50\n",
      "29/29 [==============================] - 10s 345ms/step - loss: 0.0042 - accuracy: 0.9977\n",
      "Epoch 28/50\n",
      "29/29 [==============================] - 10s 347ms/step - loss: 0.0080 - accuracy: 0.9940\n",
      "Epoch 29/50\n",
      "29/29 [==============================] - 9s 327ms/step - loss: 0.0056 - accuracy: 0.9967\n",
      "Epoch 30/50\n",
      "29/29 [==============================] - 10s 330ms/step - loss: 0.0044 - accuracy: 0.9976\n",
      "Epoch 31/50\n",
      "29/29 [==============================] - 10s 336ms/step - loss: 0.0052 - accuracy: 0.9966\n",
      "Epoch 32/50\n",
      "29/29 [==============================] - 10s 345ms/step - loss: 0.0058 - accuracy: 0.9964\n",
      "Epoch 33/50\n",
      "29/29 [==============================] - 10s 342ms/step - loss: 0.0031 - accuracy: 0.9982\n",
      "Epoch 34/50\n",
      "29/29 [==============================] - 10s 329ms/step - loss: 0.0047 - accuracy: 0.9972\n",
      "Epoch 35/50\n",
      "29/29 [==============================] - 10s 339ms/step - loss: 0.0052 - accuracy: 0.9975\n",
      "Epoch 36/50\n",
      "29/29 [==============================] - 10s 341ms/step - loss: 0.0036 - accuracy: 0.9982\n",
      "Epoch 37/50\n",
      "29/29 [==============================] - 10s 334ms/step - loss: 0.0028 - accuracy: 0.9986\n",
      "Epoch 38/50\n",
      "29/29 [==============================] - 10s 343ms/step - loss: 0.0034 - accuracy: 0.9978\n",
      "Epoch 39/50\n",
      "29/29 [==============================] - 10s 349ms/step - loss: 0.0035 - accuracy: 0.9982\n",
      "Epoch 40/50\n",
      "29/29 [==============================] - 10s 340ms/step - loss: 0.0028 - accuracy: 0.9982\n",
      "Epoch 41/50\n",
      "29/29 [==============================] - 10s 335ms/step - loss: 0.0039 - accuracy: 0.9978\n",
      "Epoch 42/50\n",
      "29/29 [==============================] - 9s 325ms/step - loss: 0.0034 - accuracy: 0.9982\n",
      "Epoch 43/50\n",
      "29/29 [==============================] - 9s 326ms/step - loss: 0.0026 - accuracy: 0.9983\n",
      "Epoch 44/50\n",
      "29/29 [==============================] - 10s 335ms/step - loss: 0.0027 - accuracy: 0.9986\n",
      "Epoch 45/50\n",
      "29/29 [==============================] - 10s 329ms/step - loss: 0.0023 - accuracy: 0.9989\n",
      "Epoch 46/50\n",
      "29/29 [==============================] - 10s 327ms/step - loss: 0.0020 - accuracy: 0.9987\n",
      "Epoch 47/50\n",
      "29/29 [==============================] - 10s 354ms/step - loss: 0.0027 - accuracy: 0.9988\n",
      "Epoch 48/50\n",
      "29/29 [==============================] - 10s 344ms/step - loss: 0.0020 - accuracy: 0.9988\n",
      "Epoch 49/50\n",
      "29/29 [==============================] - 10s 332ms/step - loss: 0.0029 - accuracy: 0.9982\n",
      "Epoch 50/50\n",
      "29/29 [==============================] - 10s 340ms/step - loss: 0.0024 - accuracy: 0.9988\n"
     ]
    },
    {
     "data": {
      "text/plain": [
       "<AxesSubplot:xlabel='Epoch'>"
      ]
     },
     "execution_count": 6,
     "metadata": {},
     "output_type": "execute_result"
    },
    {
     "data": {
      "image/png": "[encoded data removed]",
      "text/plain": [
       "<Figure size 432x288 with 1 Axes>"
      ]
     },
     "metadata": {
      "needs_background": "light"
     },
     "output_type": "display_data"
    },
    {
     "data": {
      "image/png": "[encoded data removed]",
      "text/plain": [
       "<Figure size 432x288 with 1 Axes>"
      ]
     },
     "metadata": {
      "needs_background": "light"
     },
     "output_type": "display_data"
    }
   ],
   "source": [
    "### train\n",
    "seq2seq1.train(batch_size=100, epoch=50, dev_split=0)\n",
    "seq2seq2.train(batch_size=100, epoch=50, dev_split=0)"
   ]
  },
  {
   "cell_type": "code",
   "execution_count": null,
   "id": "4a39fa88",
   "metadata": {},
   "outputs": [],
   "source": [
    "pred1 = seq2seq1.predict(join_by='')\n",
    "pred2 = seq2seq2.predict(join_by='')\n",
    "df = pd.DataFrame({'thai':test_x,'pred1':pred1,'pred2':pred2, 'answer':test_y})\n",
    "pred_tltk = [tltk.nlp.th2roman(x).replace('<s/>','').replace(' ','') for x in list(df.answer)]\n",
    "df['tltk'] = pred_tltk\n",
    "df[['thai','answer','tltk','pred1','pred2']].to_csv('pred/pred_nodict.csv', index=False)"
   ]
  },
  {
   "cell_type": "code",
   "execution_count": 16,
   "id": "3e4ecae2",
   "metadata": {},
   "outputs": [
    {
     "data": {
      "text/html": [
       "<div>\n",
       "<style scoped>\n",
       "    .dataframe tbody tr th:only-of-type {\n",
       "        vertical-align: middle;\n",
       "    }\n",
       "\n",
       "    .dataframe tbody tr th {\n",
       "        vertical-align: top;\n",
       "    }\n",
       "\n",
       "    .dataframe thead th {\n",
       "        text-align: right;\n",
       "    }\n",
       "</style>\n",
       "<table border=\"1\" class=\"dataframe\">\n",
       "  <thead>\n",
       "    <tr style=\"text-align: right;\">\n",
       "      <th></th>\n",
       "      <th>pred1</th>\n",
       "      <th>pred2</th>\n",
       "      <th>tltk</th>\n",
       "    </tr>\n",
       "  </thead>\n",
       "  <tbody>\n",
       "    <tr>\n",
       "      <th>WER</th>\n",
       "      <td>0.172840</td>\n",
       "      <td>0.108642</td>\n",
       "      <td>0.101235</td>\n",
       "    </tr>\n",
       "    <tr>\n",
       "      <th>CER macro</th>\n",
       "      <td>0.043355</td>\n",
       "      <td>0.026617</td>\n",
       "      <td>0.013554</td>\n",
       "    </tr>\n",
       "    <tr>\n",
       "      <th>CER micro</th>\n",
       "      <td>0.044962</td>\n",
       "      <td>0.028573</td>\n",
       "      <td>0.013101</td>\n",
       "    </tr>\n",
       "  </tbody>\n",
       "</table>\n",
       "</div>"
      ],
      "text/plain": [
       "              pred1     pred2      tltk\n",
       "WER        0.172840  0.108642  0.101235\n",
       "CER macro  0.043355  0.026617  0.013554\n",
       "CER micro  0.044962  0.028573  0.013101"
      ]
     },
     "execution_count": 16,
     "metadata": {},
     "output_type": "execute_result"
    }
   ],
   "source": [
    "def evaluate(df):\n",
    "    cols = df.columns\n",
    "    gold_list = list(df.answer)\n",
    "    tempdf = pd.DataFrame(index=['WER','CER macro', 'CER micro'])\n",
    "\n",
    "    for col in cols:\n",
    "        if col in ['answer', 'thai']:\n",
    "            continue\n",
    "        pred_list = list(df[col])\n",
    "        WER = jiwer.wer(pred_list, gold_list)\n",
    "        CERmacro = np.mean([jiwer.cer(p,g) for p,g in zip(pred_list, gold_list)])\n",
    "        CERmicro = sum([jiwer.cer(p,g)*len(g) for p,g in zip(pred_list, gold_list)])/sum([len(g) for g in gold_list])\n",
    "        tempdf[col] = [WER, CERmacro, CERmicro]\n",
    "    return tempdf\n",
    "\n",
    "evaluate(df)"
   ]
  },
  {
   "cell_type": "markdown",
   "id": "00a24c00",
   "metadata": {},
   "source": [
    "### coding test"
   ]
  },
  {
   "cell_type": "code",
   "execution_count": 29,
   "id": "f72d9019",
   "metadata": {},
   "outputs": [
    {
     "name": "stdout",
     "output_type": "stream",
     "text": [
      "แดนชัย\n",
      "['daenchai', 'deanchai', 'denchai']\n",
      "daenchai\n"
     ]
    }
   ],
   "source": [
    "i = np.random.randint(0,810)\n",
    "\n",
    "print(test_x[i])\n",
    "print(seq2seq1.predict_one(test_x[i], is_beam=True, beam_return_all=True, join_by=''))\n",
    "print(test_y[i])"
   ]
  },
  {
   "cell_type": "code",
   "execution_count": 15,
   "id": "c936731d",
   "metadata": {},
   "outputs": [
    {
     "name": "stdout",
     "output_type": "stream",
     "text": [
      "Model: \"model_3\"\n",
      "__________________________________________________________________________________________________\n",
      " Layer (type)                   Output Shape         Param #     Connected to                     \n",
      "==================================================================================================\n",
      " Enc_Input (InputLayer)         [(None, 55)]         0           []                               \n",
      "                                                                                                  \n",
      " Enc_Embedding (Embedding)      (None, 55, 300)      21900       ['Enc_Input[0][0]']              \n",
      "                                                                                                  \n",
      " Dec_Input (InputLayer)         [(None, 69)]         0           []                               \n",
      "                                                                                                  \n",
      " BiDir (Bidirectional)          [(None, 55, 400),    801600      ['Enc_Embedding[0][0]']          \n",
      "                                 (None, 200),                                                     \n",
      "                                 (None, 200),                                                     \n",
      "                                 (None, 200),                                                     \n",
      "                                 (None, 200)]                                                     \n",
      "                                                                                                  \n",
      " Dec_Embedding (Embedding)      (None, 69, 300)      14700       ['Dec_Input[0][0]']              \n",
      "                                                                                                  \n",
      " Concat_h (Concatenate)         (None, 400)          0           ['BiDir[0][1]',                  \n",
      "                                                                  'BiDir[0][3]']                  \n",
      "                                                                                                  \n",
      " Concat_c (Concatenate)         (None, 400)          0           ['BiDir[0][2]',                  \n",
      "                                                                  'BiDir[0][4]']                  \n",
      "                                                                                                  \n",
      " Dec_LSTM (LSTM)                [(None, 69, 400),    1121600     ['Dec_Embedding[0][0]',          \n",
      "                                 (None, 400),                     'Concat_h[0][0]',               \n",
      "                                 (None, 400)]                     'Concat_c[0][0]']               \n",
      "                                                                                                  \n",
      " Attn_Dot (Dot)                 (None, 69, 55)       0           ['Dec_LSTM[0][0]',               \n",
      "                                                                  'BiDir[0][0]']                  \n",
      "                                                                                                  \n",
      " Attn_Softmax (Activation)      (None, 69, 55)       0           ['Attn_Dot[0][0]']               \n",
      "                                                                                                  \n",
      " Attn_Context (Dot)             (None, 69, 400)      0           ['Attn_Softmax[0][0]',           \n",
      "                                                                  'BiDir[0][0]']                  \n",
      "                                                                                                  \n",
      " Attn_Concat (Concatenate)      (None, 69, 800)      0           ['Attn_Context[0][0]',           \n",
      "                                                                  'Dec_LSTM[0][0]']               \n",
      "                                                                                                  \n",
      " Attn_hidden (Dense)            (None, 69, 300)      240300      ['Attn_Concat[0][0]']            \n",
      "                                                                                                  \n",
      " Dec_Hidden (Dense)             (None, 69, 49)       14749       ['Attn_hidden[0][0]']            \n",
      "                                                                                                  \n",
      "==================================================================================================\n",
      "Total params: 2,214,849\n",
      "Trainable params: 2,214,849\n",
      "Non-trainable params: 0\n",
      "__________________________________________________________________________________________________\n"
     ]
    }
   ],
   "source": [
    "seq2seq2.model.summary()"
   ]
  },
  {
   "cell_type": "code",
   "execution_count": 9,
   "id": "96e9d96d",
   "metadata": {},
   "outputs": [
    {
     "data": {
      "text/plain": [
       "array([2, 5])"
      ]
     },
     "execution_count": 9,
     "metadata": {},
     "output_type": "execute_result"
    }
   ],
   "source": [
    "b = np.array([1,2,3,4,5])\n",
    "b[[1,4]]"
   ]
  },
  {
   "cell_type": "code",
   "execution_count": null,
   "id": "59038651",
   "metadata": {},
   "outputs": [],
   "source": []
  }
 ],
 "metadata": {
  "interpreter": {
   "hash": "aee8b7b246df8f9039afb4144a1f6fd8d2ca17a180786b69acc140d282b71a49"
  },
  "kernelspec": {
   "display_name": "Python 3.9.13 64-bit",
   "language": "python",
   "name": "python3"
  },
  "language_info": {
   "codemirror_mode": {
    "name": "ipython",
    "version": 3
   },
   "file_extension": ".py",
   "mimetype": "text/x-python",
   "name": "python",
   "nbconvert_exporter": "python",
   "pygments_lexer": "ipython3",
   "version": "3.9.2"
  }
 },
 "nbformat": 4,
 "nbformat_minor": 5
}
