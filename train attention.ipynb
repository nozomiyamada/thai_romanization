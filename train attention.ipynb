{
 "cells": [
  {
   "cell_type": "code",
   "execution_count": 5,
   "id": "1dd016b0-0777-4ae3-b935-bc15d88cd7fa",
   "metadata": {},
   "outputs": [],
   "source": [
    "from util import *\n",
    "from seq2seq import *\n",
    "import tltk, jiwer"
   ]
  },
  {
   "cell_type": "markdown",
   "id": "c05a023c",
   "metadata": {},
   "source": [
    "# additional dict data"
   ]
  },
  {
   "cell_type": "code",
   "execution_count": 4,
   "id": "005aad08",
   "metadata": {},
   "outputs": [],
   "source": [
    "\n",
    "df = pd.read_csv('data/g2p_dict.csv')\n",
    "df.g.to_csv('data/dic_x.txt', index=False, header=None)\n",
    "df.rtgs.to_csv('data/dic_y.txt', index=False, header=None)"
   ]
  },
  {
   "cell_type": "markdown",
   "id": "bed84134",
   "metadata": {},
   "source": [
    "# load data"
   ]
  },
  {
   "cell_type": "code",
   "execution_count": 6,
   "id": "d43ab950",
   "metadata": {},
   "outputs": [],
   "source": [
    "# load data\n",
    "train_x = open('data/train_x.txt').read().splitlines()\n",
    "train_y = open('data/train_y.txt').read().splitlines()\n",
    "test_x = open('data/test_x.txt').read().splitlines()\n",
    "test_y = open('data/test_y.txt').read().splitlines()\n",
    "\n",
    "dic_x = open('data/dic_x.txt').read().splitlines()\n",
    "dic_y = open('data/dic_y.txt').read().splitlines()"
   ]
  },
  {
   "cell_type": "code",
   "execution_count": 7,
   "id": "2900ea9c",
   "metadata": {},
   "outputs": [],
   "source": [
    "# Instantiation\n",
    "data = Data()\n",
    "data.set_train(train_x, train_y)\n",
    "data.set_test(test_x, test_y)\n",
    "\n",
    "data.set_train(dic_x, dic_y)"
   ]
  },
  {
   "cell_type": "code",
   "execution_count": 8,
   "id": "ac4bca57",
   "metadata": {},
   "outputs": [],
   "source": [
    "# build model\n",
    "seq2seq1 = Seq2Seq(data, attention=False)\n",
    "seq2seq1.build(show_summary=False, opt='rmsprop', loss='categorical_crossentropy')\n",
    "\n",
    "seq2seq2 = Seq2Seq(data, attention=True)\n",
    "seq2seq2.build(show_summary=False, opt='rmsprop', loss='categorical_crossentropy')"
   ]
  },
  {
   "cell_type": "code",
   "execution_count": 10,
   "id": "8228e213",
   "metadata": {},
   "outputs": [
    {
     "name": "stdout",
     "output_type": "stream",
     "text": [
      "Epoch 1/10\n",
      "301/301 [==============================] - 224s 745ms/step - loss: 0.2143 - accuracy: 0.5346\n",
      "Epoch 2/10\n",
      "301/301 [==============================] - 355s 1s/step - loss: 0.1057 - accuracy: 0.7623\n",
      "Epoch 3/10\n",
      "301/301 [==============================] - 377s 1s/step - loss: 0.0682 - accuracy: 0.8453\n",
      "Epoch 4/10\n",
      "235/301 [======================>.......] - ETA: 1:19 - loss: 0.0513 - accuracy: 0.8837"
     ]
    }
   ],
   "source": [
    "# train\n",
    "seq2seq1.train(batch_size=100, epoch=10, dev_split=0)\n",
    "seq2seq2.train(batch_size=100, epoch=10, dev_split=0)"
   ]
  },
  {
   "cell_type": "code",
   "execution_count": 26,
   "id": "4a39fa88",
   "metadata": {},
   "outputs": [
    {
     "name": "stderr",
     "output_type": "stream",
     "text": [
      "100%|██████████| 810/810 [03:28<00:00,  3.89it/s]\n",
      "100%|██████████| 810/810 [03:51<00:00,  3.51it/s]\n"
     ]
    }
   ],
   "source": [
    "pred1 = seq2seq1.predict(join_by='')\n",
    "pred2 = seq2seq2.predict(join_by='')\n",
    "df = pd.DataFrame({'thai':test_x,'pred1':pred1,'pred2':pred2, 'answer':test_y})\n",
    "pred_tltk = [tltk.nlp.th2roman(x).replace('<s/>','').replace(' ','') for x in list(df.answer)]\n",
    "df['tltk'] = pred_tltk\n",
    "df.to_csv('pred_withdic.csv', index=False)"
   ]
  },
  {
   "cell_type": "code",
   "execution_count": 29,
   "id": "3e4ecae2",
   "metadata": {},
   "outputs": [
    {
     "data": {
      "text/html": [
       "<div>\n",
       "<style scoped>\n",
       "    .dataframe tbody tr th:only-of-type {\n",
       "        vertical-align: middle;\n",
       "    }\n",
       "\n",
       "    .dataframe tbody tr th {\n",
       "        vertical-align: top;\n",
       "    }\n",
       "\n",
       "    .dataframe thead th {\n",
       "        text-align: right;\n",
       "    }\n",
       "</style>\n",
       "<table border=\"1\" class=\"dataframe\">\n",
       "  <thead>\n",
       "    <tr style=\"text-align: right;\">\n",
       "      <th></th>\n",
       "      <th>pred1</th>\n",
       "      <th>pred2</th>\n",
       "      <th>tltk</th>\n",
       "    </tr>\n",
       "  </thead>\n",
       "  <tbody>\n",
       "    <tr>\n",
       "      <th>WER</th>\n",
       "      <td>0.259259</td>\n",
       "      <td>0.156790</td>\n",
       "      <td>0.101235</td>\n",
       "    </tr>\n",
       "    <tr>\n",
       "      <th>CER macro</th>\n",
       "      <td>0.075115</td>\n",
       "      <td>0.038668</td>\n",
       "      <td>0.013554</td>\n",
       "    </tr>\n",
       "    <tr>\n",
       "      <th>CER micro</th>\n",
       "      <td>0.075955</td>\n",
       "      <td>0.038693</td>\n",
       "      <td>0.013101</td>\n",
       "    </tr>\n",
       "  </tbody>\n",
       "</table>\n",
       "</div>"
      ],
      "text/plain": [
       "              pred1     pred2      tltk\n",
       "WER        0.259259  0.156790  0.101235\n",
       "CER macro  0.075115  0.038668  0.013554\n",
       "CER micro  0.075955  0.038693  0.013101"
      ]
     },
     "execution_count": 29,
     "metadata": {},
     "output_type": "execute_result"
    }
   ],
   "source": [
    "def evaluate(df):\n",
    "    cols = df.columns\n",
    "    pred_list = list(df.pred1)\n",
    "    gold_list = list(df.answer)\n",
    "    tempdf = pd.DataFrame(index=['WER','CER macro', 'CER micro'])\n",
    "\n",
    "    for col in cols:\n",
    "        if col in ['answer', 'thai']:\n",
    "            continue\n",
    "        pred_list = list(df[col])\n",
    "        WER = jiwer.wer(pred_list, gold_list)\n",
    "        CERmacro = np.mean([jiwer.cer(p,g) for p,g in zip(pred_list, gold_list)])\n",
    "        CERmicro = sum([jiwer.cer(p,g)*len(g) for p,g in zip(pred_list, gold_list)])/sum([len(g) for g in gold_list])\n",
    "        tempdf[col] = [WER, CERmacro, CERmicro]\n",
    "    return tempdf\n",
    "\n",
    "evaluate(df)"
   ]
  },
  {
   "cell_type": "code",
   "execution_count": 18,
   "id": "45bdc828",
   "metadata": {},
   "outputs": [
    {
     "data": {
      "text/plain": [
       "810"
      ]
     },
     "execution_count": 18,
     "metadata": {},
     "output_type": "execute_result"
    }
   ],
   "source": [
    "len(pred_tltk)"
   ]
  }
 ],
 "metadata": {
  "interpreter": {
   "hash": "aee8b7b246df8f9039afb4144a1f6fd8d2ca17a180786b69acc140d282b71a49"
  },
  "kernelspec": {
   "display_name": "Python 3.9.13 64-bit",
   "language": "python",
   "name": "python3"
  },
  "language_info": {
   "codemirror_mode": {
    "name": "ipython",
    "version": 3
   },
   "file_extension": ".py",
   "mimetype": "text/x-python",
   "name": "python",
   "nbconvert_exporter": "python",
   "pygments_lexer": "ipython3",
   "version": "3.9.13"
  }
 },
 "nbformat": 4,
 "nbformat_minor": 5
}
