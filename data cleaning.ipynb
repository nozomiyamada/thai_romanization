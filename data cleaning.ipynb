{
 "cells": [
  {
   "cell_type": "code",
   "execution_count": 72,
   "id": "3e4ecae2",
   "metadata": {},
   "outputs": [],
   "source": [
    "import pandas as pd\n",
    "from sklearn.model_selection import train_test_split\n",
    "df = pd.read_csv('data/name_romanization.csv')"
   ]
  },
  {
   "cell_type": "code",
   "execution_count": 74,
   "id": "c644ab80",
   "metadata": {},
   "outputs": [
    {
     "data": {
      "text/plain": [
       "3805"
      ]
     },
     "execution_count": 74,
     "metadata": {},
     "output_type": "execute_result"
    }
   ],
   "source": [
    "# make dict {thai: [roman1, roman2],...}\n",
    "names = {}\n",
    "for g, p in zip(df.token, df.romanize1):\n",
    "    names[g] = names.get(g, []) + [p]\n",
    "len(names)"
   ]
  },
  {
   "cell_type": "code",
   "execution_count": 75,
   "id": "fc92a801",
   "metadata": {},
   "outputs": [
    {
     "data": {
      "text/plain": [
       "3560"
      ]
     },
     "execution_count": 75,
     "metadata": {},
     "output_type": "execute_result"
    }
   ],
   "source": [
    "# exclude ambiguous names\n",
    "names = [(k,v[0]) for k,v in names.items() if len(v)==1]\n",
    "len(names)"
   ]
  },
  {
   "cell_type": "code",
   "execution_count": 76,
   "id": "83eb2eaf",
   "metadata": {},
   "outputs": [
    {
     "data": {
      "text/html": [
       "<div>\n",
       "<style scoped>\n",
       "    .dataframe tbody tr th:only-of-type {\n",
       "        vertical-align: middle;\n",
       "    }\n",
       "\n",
       "    .dataframe tbody tr th {\n",
       "        vertical-align: top;\n",
       "    }\n",
       "\n",
       "    .dataframe thead th {\n",
       "        text-align: right;\n",
       "    }\n",
       "</style>\n",
       "<table border=\"1\" class=\"dataframe\">\n",
       "  <thead>\n",
       "    <tr style=\"text-align: right;\">\n",
       "      <th></th>\n",
       "      <th>thai</th>\n",
       "      <th>romanize</th>\n",
       "    </tr>\n",
       "  </thead>\n",
       "  <tbody>\n",
       "    <tr>\n",
       "      <th>0</th>\n",
       "      <td>กุลสตรี</td>\n",
       "      <td>kunlasattri</td>\n",
       "    </tr>\n",
       "    <tr>\n",
       "      <th>1</th>\n",
       "      <td>กุสุมา</td>\n",
       "      <td>kusuma</td>\n",
       "    </tr>\n",
       "    <tr>\n",
       "      <th>2</th>\n",
       "      <td>กุสุมาลย์</td>\n",
       "      <td>kusuman</td>\n",
       "    </tr>\n",
       "    <tr>\n",
       "      <th>3</th>\n",
       "      <td>กุหลาบ</td>\n",
       "      <td>kulap</td>\n",
       "    </tr>\n",
       "    <tr>\n",
       "      <th>4</th>\n",
       "      <td>ก่อเกียรติ</td>\n",
       "      <td>kokiat</td>\n",
       "    </tr>\n",
       "    <tr>\n",
       "      <th>...</th>\n",
       "      <td>...</td>\n",
       "      <td>...</td>\n",
       "    </tr>\n",
       "    <tr>\n",
       "      <th>3555</th>\n",
       "      <td>ไลลา</td>\n",
       "      <td>Laila</td>\n",
       "    </tr>\n",
       "    <tr>\n",
       "      <th>3556</th>\n",
       "      <td>ไวพจน์</td>\n",
       "      <td>Waiphot</td>\n",
       "    </tr>\n",
       "    <tr>\n",
       "      <th>3557</th>\n",
       "      <td>ไอริณ</td>\n",
       "      <td>Airin</td>\n",
       "    </tr>\n",
       "    <tr>\n",
       "      <th>3558</th>\n",
       "      <td>ไอลดา</td>\n",
       "      <td>Ailada</td>\n",
       "    </tr>\n",
       "    <tr>\n",
       "      <th>3559</th>\n",
       "      <td>ไอศูรย์</td>\n",
       "      <td>Aisun</td>\n",
       "    </tr>\n",
       "  </tbody>\n",
       "</table>\n",
       "<p>3560 rows × 2 columns</p>\n",
       "</div>"
      ],
      "text/plain": [
       "            thai     romanize\n",
       "0        กุลสตรี  kunlasattri\n",
       "1         กุสุมา       kusuma\n",
       "2      กุสุมาลย์      kusuman\n",
       "3         กุหลาบ        kulap\n",
       "4     ก่อเกียรติ       kokiat\n",
       "...          ...          ...\n",
       "3555        ไลลา        Laila\n",
       "3556      ไวพจน์      Waiphot\n",
       "3557       ไอริณ        Airin\n",
       "3558       ไอลดา       Ailada\n",
       "3559     ไอศูรย์        Aisun\n",
       "\n",
       "[3560 rows x 2 columns]"
      ]
     },
     "execution_count": 76,
     "metadata": {},
     "output_type": "execute_result"
    }
   ],
   "source": [
    "df = pd.DataFrame(names, columns=['thai', 'romanize'])\n",
    "df"
   ]
  },
  {
   "cell_type": "code",
   "execution_count": 77,
   "id": "08a9b86e",
   "metadata": {},
   "outputs": [],
   "source": [
    "train, test = train_test_split(df, test_size=0.1968)"
   ]
  },
  {
   "cell_type": "code",
   "execution_count": 78,
   "id": "0e49b093",
   "metadata": {},
   "outputs": [
    {
     "data": {
      "text/html": [
       "<div>\n",
       "<style scoped>\n",
       "    .dataframe tbody tr th:only-of-type {\n",
       "        vertical-align: middle;\n",
       "    }\n",
       "\n",
       "    .dataframe tbody tr th {\n",
       "        vertical-align: top;\n",
       "    }\n",
       "\n",
       "    .dataframe thead th {\n",
       "        text-align: right;\n",
       "    }\n",
       "</style>\n",
       "<table border=\"1\" class=\"dataframe\">\n",
       "  <thead>\n",
       "    <tr style=\"text-align: right;\">\n",
       "      <th></th>\n",
       "      <th>thai</th>\n",
       "      <th>romanize</th>\n",
       "    </tr>\n",
       "  </thead>\n",
       "  <tbody>\n",
       "    <tr>\n",
       "      <th>3389</th>\n",
       "      <td>เปรมิกา</td>\n",
       "      <td>Premika</td>\n",
       "    </tr>\n",
       "    <tr>\n",
       "      <th>3339</th>\n",
       "      <td>เชาวฤทธิ์</td>\n",
       "      <td>Chaowarit</td>\n",
       "    </tr>\n",
       "    <tr>\n",
       "      <th>3263</th>\n",
       "      <td>อุบลวรรณ</td>\n",
       "      <td>Ubonwan</td>\n",
       "    </tr>\n",
       "    <tr>\n",
       "      <th>2896</th>\n",
       "      <td>สุภาวัลย์</td>\n",
       "      <td>suphawan</td>\n",
       "    </tr>\n",
       "    <tr>\n",
       "      <th>3427</th>\n",
       "      <td>เยาวรักษ์</td>\n",
       "      <td>Yaowarak</td>\n",
       "    </tr>\n",
       "    <tr>\n",
       "      <th>...</th>\n",
       "      <td>...</td>\n",
       "      <td>...</td>\n",
       "    </tr>\n",
       "    <tr>\n",
       "      <th>82</th>\n",
       "      <td>จตุพงศ์</td>\n",
       "      <td>chatuphong</td>\n",
       "    </tr>\n",
       "    <tr>\n",
       "      <th>2405</th>\n",
       "      <td>วิไลรักษ์</td>\n",
       "      <td>wilairak</td>\n",
       "    </tr>\n",
       "    <tr>\n",
       "      <th>1287</th>\n",
       "      <td>ประพันธ์</td>\n",
       "      <td>praphan</td>\n",
       "    </tr>\n",
       "    <tr>\n",
       "      <th>606</th>\n",
       "      <td>ดาริกา</td>\n",
       "      <td>darika</td>\n",
       "    </tr>\n",
       "    <tr>\n",
       "      <th>1449</th>\n",
       "      <td>ผกาภรณ์</td>\n",
       "      <td>Phakaphon</td>\n",
       "    </tr>\n",
       "  </tbody>\n",
       "</table>\n",
       "<p>2859 rows × 2 columns</p>\n",
       "</div>"
      ],
      "text/plain": [
       "           thai    romanize\n",
       "3389    เปรมิกา     Premika\n",
       "3339  เชาวฤทธิ์   Chaowarit\n",
       "3263   อุบลวรรณ     Ubonwan\n",
       "2896  สุภาวัลย์    suphawan\n",
       "3427  เยาวรักษ์    Yaowarak\n",
       "...         ...         ...\n",
       "82      จตุพงศ์  chatuphong\n",
       "2405  วิไลรักษ์    wilairak\n",
       "1287   ประพันธ์     praphan\n",
       "606      ดาริกา      darika\n",
       "1449    ผกาภรณ์   Phakaphon\n",
       "\n",
       "[2859 rows x 2 columns]"
      ]
     },
     "execution_count": 78,
     "metadata": {},
     "output_type": "execute_result"
    }
   ],
   "source": [
    "train"
   ]
  },
  {
   "cell_type": "code",
   "execution_count": 79,
   "id": "4cae6f5d",
   "metadata": {},
   "outputs": [
    {
     "data": {
      "text/html": [
       "<div>\n",
       "<style scoped>\n",
       "    .dataframe tbody tr th:only-of-type {\n",
       "        vertical-align: middle;\n",
       "    }\n",
       "\n",
       "    .dataframe tbody tr th {\n",
       "        vertical-align: top;\n",
       "    }\n",
       "\n",
       "    .dataframe thead th {\n",
       "        text-align: right;\n",
       "    }\n",
       "</style>\n",
       "<table border=\"1\" class=\"dataframe\">\n",
       "  <thead>\n",
       "    <tr style=\"text-align: right;\">\n",
       "      <th></th>\n",
       "      <th>thai</th>\n",
       "      <th>romanize</th>\n",
       "    </tr>\n",
       "  </thead>\n",
       "  <tbody>\n",
       "    <tr>\n",
       "      <th>1974</th>\n",
       "      <td>ยุรนันท์</td>\n",
       "      <td>Yuranan</td>\n",
       "    </tr>\n",
       "    <tr>\n",
       "      <th>1726</th>\n",
       "      <td>ฟองจันทร์</td>\n",
       "      <td>Fongchan</td>\n",
       "    </tr>\n",
       "    <tr>\n",
       "      <th>2267</th>\n",
       "      <td>วศิน</td>\n",
       "      <td>wasin</td>\n",
       "    </tr>\n",
       "    <tr>\n",
       "      <th>1357</th>\n",
       "      <td>ปรเมศวร์</td>\n",
       "      <td>poramet</td>\n",
       "    </tr>\n",
       "    <tr>\n",
       "      <th>1672</th>\n",
       "      <td>พิมลมาศ</td>\n",
       "      <td>Phimonmat</td>\n",
       "    </tr>\n",
       "    <tr>\n",
       "      <th>...</th>\n",
       "      <td>...</td>\n",
       "      <td>...</td>\n",
       "    </tr>\n",
       "    <tr>\n",
       "      <th>2440</th>\n",
       "      <td>วุฒิกร</td>\n",
       "      <td>wutthikon</td>\n",
       "    </tr>\n",
       "    <tr>\n",
       "      <th>882</th>\n",
       "      <td>ธิติสุดา</td>\n",
       "      <td>thitisuda</td>\n",
       "    </tr>\n",
       "    <tr>\n",
       "      <th>3401</th>\n",
       "      <td>เพียงขวัญ</td>\n",
       "      <td>Phiangkhwan</td>\n",
       "    </tr>\n",
       "    <tr>\n",
       "      <th>2567</th>\n",
       "      <td>ศุภมิตร</td>\n",
       "      <td>supphamit</td>\n",
       "    </tr>\n",
       "    <tr>\n",
       "      <th>162</th>\n",
       "      <td>จิตติกร</td>\n",
       "      <td>chittikon</td>\n",
       "    </tr>\n",
       "  </tbody>\n",
       "</table>\n",
       "<p>701 rows × 2 columns</p>\n",
       "</div>"
      ],
      "text/plain": [
       "           thai     romanize\n",
       "1974   ยุรนันท์      Yuranan\n",
       "1726  ฟองจันทร์     Fongchan\n",
       "2267       วศิน        wasin\n",
       "1357   ปรเมศวร์      poramet\n",
       "1672    พิมลมาศ    Phimonmat\n",
       "...         ...          ...\n",
       "2440     วุฒิกร    wutthikon\n",
       "882    ธิติสุดา    thitisuda\n",
       "3401  เพียงขวัญ  Phiangkhwan\n",
       "2567    ศุภมิตร    supphamit\n",
       "162     จิตติกร    chittikon\n",
       "\n",
       "[701 rows x 2 columns]"
      ]
     },
     "execution_count": 79,
     "metadata": {},
     "output_type": "execute_result"
    }
   ],
   "source": [
    "test"
   ]
  },
  {
   "cell_type": "code",
   "execution_count": 80,
   "id": "2d99af65",
   "metadata": {},
   "outputs": [],
   "source": [
    "train.thai.to_csv('train_x.txt', index=False, header=False)\n",
    "train.romanize.to_csv('train_y.txt', index=False, header=False)\n",
    "test.thai.to_csv('test_x.txt', index=False, header=False)\n",
    "test.romanize.to_csv('test_y.txt', index=False, header=False)"
   ]
  },
  {
   "cell_type": "code",
   "execution_count": null,
   "id": "621ae829",
   "metadata": {},
   "outputs": [],
   "source": []
  },
  {
   "cell_type": "code",
   "execution_count": null,
   "id": "8a7d2609",
   "metadata": {},
   "outputs": [],
   "source": []
  },
  {
   "cell_type": "code",
   "execution_count": null,
   "id": "660c6447",
   "metadata": {},
   "outputs": [],
   "source": []
  },
  {
   "cell_type": "code",
   "execution_count": null,
   "id": "243e3a25",
   "metadata": {},
   "outputs": [],
   "source": []
  }
 ],
 "metadata": {
  "interpreter": {
   "hash": "aee8b7b246df8f9039afb4144a1f6fd8d2ca17a180786b69acc140d282b71a49"
  },
  "kernelspec": {
   "display_name": "Python 3.9.13 64-bit",
   "language": "python",
   "name": "python3"
  },
  "language_info": {
   "codemirror_mode": {
    "name": "ipython",
    "version": 3
   },
   "file_extension": ".py",
   "mimetype": "text/x-python",
   "name": "python",
   "nbconvert_exporter": "python",
   "pygments_lexer": "ipython3",
   "version": "3.9.13"
  }
 },
 "nbformat": 4,
 "nbformat_minor": 5
}
