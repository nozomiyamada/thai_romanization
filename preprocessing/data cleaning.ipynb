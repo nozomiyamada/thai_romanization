{
 "cells": [
  {
   "cell_type": "code",
   "execution_count": 68,
   "id": "3e4ecae2",
   "metadata": {},
   "outputs": [
    {
     "name": "stdout",
     "output_type": "stream",
     "text": [
      "num of row: 3847\n",
      "drop duplicate: 3847\n"
     ]
    }
   ],
   "source": [
    "import pandas as pd\n",
    "from sklearn.model_selection import train_test_split\n",
    "df = pd.read_csv('../data/name_romanization.csv')\n",
    "df['romanize1'] = df.romanize1.apply(lambda x: x.lower())\n",
    "print('num of row:', len(df))\n",
    "df = df.drop_duplicates()\n",
    "print('drop duplicate:', len(df))\n",
    "#df_name = pd.read_csv('name1000.csv')"
   ]
  },
  {
   "cell_type": "markdown",
   "id": "225c4d23",
   "metadata": {},
   "source": [
    "# make name list from original data"
   ]
  },
  {
   "cell_type": "code",
   "execution_count": 65,
   "id": "c644ab80",
   "metadata": {},
   "outputs": [
    {
     "name": "stdout",
     "output_type": "stream",
     "text": [
      "num of distinct names: 3806\n",
      "not ambiguous name: 3766\n"
     ]
    }
   ],
   "source": [
    "### make dict {thai: [roman1, roman2],...}\n",
    "### one transcription may be read in several ways e.g. เอกรัฐ\n",
    "names = {}\n",
    "for g, p in zip(df.token, df.romanize1):\n",
    "    names[g] = names.get(g, []) + [p]\n",
    "print('num of distinct names:', len(names))\n",
    "\n",
    "### exclude ambiguous names\n",
    "names_not_amb = [(g,p[0]) for g,p in names.items() if len(p)==1]\n",
    "print('not ambiguous name:', len(names_not_amb))"
   ]
  },
  {
   "cell_type": "code",
   "execution_count": 16,
   "id": "e8dfb1db",
   "metadata": {},
   "outputs": [
    {
     "data": {
      "text/html": [
       "<div>\n",
       "<style scoped>\n",
       "    .dataframe tbody tr th:only-of-type {\n",
       "        vertical-align: middle;\n",
       "    }\n",
       "\n",
       "    .dataframe tbody tr th {\n",
       "        vertical-align: top;\n",
       "    }\n",
       "\n",
       "    .dataframe thead th {\n",
       "        text-align: right;\n",
       "    }\n",
       "</style>\n",
       "<table border=\"1\" class=\"dataframe\">\n",
       "  <thead>\n",
       "    <tr style=\"text-align: right;\">\n",
       "      <th></th>\n",
       "      <th>token</th>\n",
       "      <th>romanize1</th>\n",
       "    </tr>\n",
       "  </thead>\n",
       "  <tbody>\n",
       "    <tr>\n",
       "      <th>0</th>\n",
       "      <td>กุลสตรี</td>\n",
       "      <td>kunlasattri</td>\n",
       "    </tr>\n",
       "    <tr>\n",
       "      <th>1</th>\n",
       "      <td>กุสุมา</td>\n",
       "      <td>kusuma</td>\n",
       "    </tr>\n",
       "    <tr>\n",
       "      <th>2</th>\n",
       "      <td>กุสุมาลย์</td>\n",
       "      <td>kusuman</td>\n",
       "    </tr>\n",
       "    <tr>\n",
       "      <th>3</th>\n",
       "      <td>กุหลาบ</td>\n",
       "      <td>kulap</td>\n",
       "    </tr>\n",
       "    <tr>\n",
       "      <th>4</th>\n",
       "      <td>ก่อเกียรติ</td>\n",
       "      <td>kokiat</td>\n",
       "    </tr>\n",
       "    <tr>\n",
       "      <th>...</th>\n",
       "      <td>...</td>\n",
       "      <td>...</td>\n",
       "    </tr>\n",
       "    <tr>\n",
       "      <th>3761</th>\n",
       "      <td>ไลลา</td>\n",
       "      <td>laila</td>\n",
       "    </tr>\n",
       "    <tr>\n",
       "      <th>3762</th>\n",
       "      <td>ไวพจน์</td>\n",
       "      <td>waiphot</td>\n",
       "    </tr>\n",
       "    <tr>\n",
       "      <th>3763</th>\n",
       "      <td>ไอริณ</td>\n",
       "      <td>airin</td>\n",
       "    </tr>\n",
       "    <tr>\n",
       "      <th>3764</th>\n",
       "      <td>ไอลดา</td>\n",
       "      <td>ailada</td>\n",
       "    </tr>\n",
       "    <tr>\n",
       "      <th>3765</th>\n",
       "      <td>ไอศูรย์</td>\n",
       "      <td>aisun</td>\n",
       "    </tr>\n",
       "  </tbody>\n",
       "</table>\n",
       "<p>3766 rows × 2 columns</p>\n",
       "</div>"
      ],
      "text/plain": [
       "           token    romanize1\n",
       "0        กุลสตรี  kunlasattri\n",
       "1         กุสุมา       kusuma\n",
       "2      กุสุมาลย์      kusuman\n",
       "3         กุหลาบ        kulap\n",
       "4     ก่อเกียรติ       kokiat\n",
       "...          ...          ...\n",
       "3761        ไลลา        laila\n",
       "3762      ไวพจน์      waiphot\n",
       "3763       ไอริณ        airin\n",
       "3764       ไอลดา       ailada\n",
       "3765     ไอศูรย์        aisun\n",
       "\n",
       "[3766 rows x 2 columns]"
      ]
     },
     "execution_count": 16,
     "metadata": {},
     "output_type": "execute_result"
    }
   ],
   "source": [
    "### if use all entries\n",
    "#df = df[['token',\"romanize1\"]]\n",
    "\n",
    "### if use not ambiguous name\n",
    "df = pd.DataFrame(names_not_amb, columns=['token', 'romanize1']) \n",
    "\n",
    "df"
   ]
  },
  {
   "cell_type": "code",
   "execution_count": 17,
   "id": "08a9b86e",
   "metadata": {},
   "outputs": [
    {
     "name": "stdout",
     "output_type": "stream",
     "text": [
      "train: 3066\n",
      "test: 700\n",
      "700 = 700\n"
     ]
    }
   ],
   "source": [
    "train, test = train_test_split(df, test_size=0.1858)\n",
    "print('train:', len(train))\n",
    "print('test:', len(test))\n",
    "print(len(test), \"=\", len(set(test.token))) # must equal"
   ]
  },
  {
   "cell_type": "code",
   "execution_count": 18,
   "id": "2d99af65",
   "metadata": {},
   "outputs": [],
   "source": [
    "train.token.to_csv('../data/train_x.txt', index=False, header=False)\n",
    "train.romanize1.to_csv('../data/train_y.txt', index=False, header=False)\n",
    "test.token.to_csv('../data/test_x.txt', index=False, header=False)\n",
    "test.romanize1.to_csv('../data/test_y.txt', index=False, header=False)"
   ]
  },
  {
   "cell_type": "markdown",
   "id": "4a3aa09d",
   "metadata": {},
   "source": [
    "# additional dict data"
   ]
  },
  {
   "cell_type": "code",
   "execution_count": null,
   "id": "621ae829",
   "metadata": {},
   "outputs": [],
   "source": [
    "df = pd.read_csv('../data/g2p_dict.csv')\n",
    "df.g.to_csv('../data/dic_x.txt', index=False, header=None)\n",
    "df.rtgs.to_csv('../data/dic_y.txt', index=False, header=None)"
   ]
  },
  {
   "cell_type": "markdown",
   "id": "c526c3f4",
   "metadata": {},
   "source": [
    "# convert Prim's Data"
   ]
  },
  {
   "cell_type": "code",
   "execution_count": 69,
   "id": "70c3da11",
   "metadata": {},
   "outputs": [
    {
     "data": {
      "text/html": [
       "<div>\n",
       "<style scoped>\n",
       "    .dataframe tbody tr th:only-of-type {\n",
       "        vertical-align: middle;\n",
       "    }\n",
       "\n",
       "    .dataframe tbody tr th {\n",
       "        vertical-align: top;\n",
       "    }\n",
       "\n",
       "    .dataframe thead th {\n",
       "        text-align: right;\n",
       "    }\n",
       "</style>\n",
       "<table border=\"1\" class=\"dataframe\">\n",
       "  <thead>\n",
       "    <tr style=\"text-align: right;\">\n",
       "      <th></th>\n",
       "      <th>token</th>\n",
       "      <th>transcription</th>\n",
       "    </tr>\n",
       "  </thead>\n",
       "  <tbody>\n",
       "    <tr>\n",
       "      <th>0</th>\n",
       "      <td>กุลสตรี</td>\n",
       "      <td>kun0.la0.sat1.tri:0</td>\n",
       "    </tr>\n",
       "    <tr>\n",
       "      <th>1</th>\n",
       "      <td>กุสุมา</td>\n",
       "      <td>ku1.su1.ma:0</td>\n",
       "    </tr>\n",
       "    <tr>\n",
       "      <th>2</th>\n",
       "      <td>กุสุมาลย์</td>\n",
       "      <td>ku1.su1.ma:n0</td>\n",
       "    </tr>\n",
       "    <tr>\n",
       "      <th>3</th>\n",
       "      <td>กุหลาบ</td>\n",
       "      <td>ku0.la:p1</td>\n",
       "    </tr>\n",
       "    <tr>\n",
       "      <th>4</th>\n",
       "      <td>ก่อเกียรติ</td>\n",
       "      <td>kO:1.kiat1</td>\n",
       "    </tr>\n",
       "    <tr>\n",
       "      <th>...</th>\n",
       "      <td>...</td>\n",
       "      <td>...</td>\n",
       "    </tr>\n",
       "    <tr>\n",
       "      <th>3842</th>\n",
       "      <td>ไลลา</td>\n",
       "      <td>laj0.la:0</td>\n",
       "    </tr>\n",
       "    <tr>\n",
       "      <th>3843</th>\n",
       "      <td>ไวพจน์</td>\n",
       "      <td>waj0.phot3</td>\n",
       "    </tr>\n",
       "    <tr>\n",
       "      <th>3844</th>\n",
       "      <td>ไอริณ</td>\n",
       "      <td>?aj0.rin0</td>\n",
       "    </tr>\n",
       "    <tr>\n",
       "      <th>3845</th>\n",
       "      <td>ไอลดา</td>\n",
       "      <td>?aj0.la0.da:0</td>\n",
       "    </tr>\n",
       "    <tr>\n",
       "      <th>3846</th>\n",
       "      <td>ไอศูรย์</td>\n",
       "      <td>?aj0.su:n4</td>\n",
       "    </tr>\n",
       "  </tbody>\n",
       "</table>\n",
       "<p>3847 rows × 2 columns</p>\n",
       "</div>"
      ],
      "text/plain": [
       "           token        transcription\n",
       "0        กุลสตรี  kun0.la0.sat1.tri:0\n",
       "1         กุสุมา         ku1.su1.ma:0\n",
       "2      กุสุมาลย์        ku1.su1.ma:n0\n",
       "3         กุหลาบ            ku0.la:p1\n",
       "4     ก่อเกียรติ           kO:1.kiat1\n",
       "...          ...                  ...\n",
       "3842        ไลลา            laj0.la:0\n",
       "3843      ไวพจน์           waj0.phot3\n",
       "3844       ไอริณ            ?aj0.rin0\n",
       "3845       ไอลดา        ?aj0.la0.da:0\n",
       "3846     ไอศูรย์           ?aj0.su:n4\n",
       "\n",
       "[3847 rows x 2 columns]"
      ]
     },
     "execution_count": 69,
     "metadata": {},
     "output_type": "execute_result"
    }
   ],
   "source": [
    "SHORT_VOWELS = \"aivueyoxz\"\n",
    "LONG_VOWELS =  \"AIVUEYOXZ\"\n",
    "DIPHTHONGS = \"JWR\"\n",
    "VOWELS = SHORT_VOWELS + LONG_VOWELS + DIPHTHONGS\n",
    "ONSETS = [\"br\",\"bl\",\"pr\",\"pl\",\"Pr\",\"Pl\",\"fr\",\"fl\",\"dr\",\"tr\",\"Tr\",\"kr\",\"kl\",\"kw\",\"Kr\",\"Kl\",\"Kw\"] + \\\n",
    "    [\"b\",\"p\",\"P\",\"m\",\"f\",\"d\",\"t\",\"T\",\"n\",\"s\",\"r\",\"l\",\"c\",\"C\",\"k\",\"K\",\"N\",\"w\",\"j\",\"h\",\"?\"]\n",
    "CODAS = [\"p\",\"m\",\"f\",\"t\",\"d\",\"n\",\"s\",\"l\",\"c\",\"k\",\"N\",\"w\",\"j\",\"?\",\"-\"]\n",
    "\n",
    "df = df[['token', 'transcription']]\n",
    "df"
   ]
  },
  {
   "cell_type": "code",
   "execution_count": 70,
   "id": "660c6447",
   "metadata": {},
   "outputs": [],
   "source": [
    "def convert_syl(syl):\n",
    "    tone = syl[-1]\n",
    "    syl = syl[:-1]\n",
    "\n",
    "    if syl[-1] in 'ptkmnNwj':\n",
    "        coda = syl[-1]\n",
    "        syl = syl[:-1]\n",
    "    else:\n",
    "        coda = '-'\n",
    "\n",
    "    if syl[-1] == ':':\n",
    "        vowel = {'a:':'A','i:':'I','u:':'U','I:':'V','e:':'E','{:':'Y','o:':'O','O:':'X','@:':'Z'}[syl[-2:]]\n",
    "        syl = syl[:-2]\n",
    "    elif syl[-2:] in ['ia','ua','Ia']:\n",
    "        vowel = {'ia':'J','ua':'W','Ia':'W'}[syl[-2:]]\n",
    "        syl = syl[:-2]\n",
    "    else:\n",
    "        vowel = {'a':'a','i':'i','u':'u','I':'v','e':'e','{':'y','o':'o','O':'x','@':'z'}[syl[-1]]\n",
    "        syl = syl[:-1]\n",
    "\n",
    "    if syl[:2] in ['kh','ph','th','ch']:\n",
    "        onset = {'kh':'K','ph':'P','th':'T','ch':'C'}[syl[:2]] + syl[2:]\n",
    "    else:\n",
    "        onset = syl\n",
    "\n",
    "    return onset+vowel+coda+str(int(tone)+1)\n",
    "        \n",
    "\n",
    "def convert(transcription):\n",
    "    syls = transcription.split('.')\n",
    "    return ' '.join([convert_syl(syl) for syl in syls])"
   ]
  },
  {
   "cell_type": "code",
   "execution_count": 71,
   "id": "243e3a25",
   "metadata": {},
   "outputs": [],
   "source": [
    "df['new'] = df.transcription.apply(convert)"
   ]
  },
  {
   "cell_type": "code",
   "execution_count": 74,
   "id": "5d169c0a",
   "metadata": {},
   "outputs": [],
   "source": [
    "df.to_csv('../data/name_phoneme.csv', index=False)"
   ]
  },
  {
   "cell_type": "code",
   "execution_count": 66,
   "id": "fccf1207",
   "metadata": {},
   "outputs": [],
   "source": [
    "#### validation ####\n",
    "for x in df.transcription:\n",
    "    try:\n",
    "        convert(x)\n",
    "    except:\n",
    "        print(x)"
   ]
  },
  {
   "cell_type": "code",
   "execution_count": null,
   "id": "78453b7a",
   "metadata": {},
   "outputs": [],
   "source": []
  }
 ],
 "metadata": {
  "interpreter": {
   "hash": "aee8b7b246df8f9039afb4144a1f6fd8d2ca17a180786b69acc140d282b71a49"
  },
  "kernelspec": {
   "display_name": "Python 3.9.13 64-bit",
   "language": "python",
   "name": "python3"
  },
  "language_info": {
   "codemirror_mode": {
    "name": "ipython",
    "version": 3
   },
   "file_extension": ".py",
   "mimetype": "text/x-python",
   "name": "python",
   "nbconvert_exporter": "python",
   "pygments_lexer": "ipython3",
   "version": "3.9.2"
  }
 },
 "nbformat": 4,
 "nbformat_minor": 5
}
